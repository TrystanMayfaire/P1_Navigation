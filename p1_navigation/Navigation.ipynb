{
 "cells": [
  {
   "cell_type": "markdown",
   "metadata": {},
   "source": [
    "# Banana Collector!"
   ]
  },
  {
   "cell_type": "markdown",
   "metadata": {},
   "source": [
    "## Modules"
   ]
  },
  {
   "cell_type": "code",
   "execution_count": 1,
   "metadata": {},
   "outputs": [
    {
     "name": "stderr",
     "output_type": "stream",
     "text": [
      "  DEPRECATION: A future pip version will change local packages to be built in-place without first copying to a temporary directory. We recommend you use --use-feature=in-tree-build to test your packages with this new behavior before it becomes the default.\n",
      "   pip 21.3 will remove support for this functionality. You can find discussion regarding this at https://github.com/pypa/pip/issues/7555.\n"
     ]
    },
    {
     "name": "stdout",
     "output_type": "stream",
     "text": [
      "Collecting requests\n",
      "  Using cached requests-2.27.1-py2.py3-none-any.whl (63 kB)\n",
      "Collecting urllib3<1.27,>=1.21.1\n",
      "  Downloading urllib3-1.26.12-py2.py3-none-any.whl (140 kB)\n",
      "Collecting idna<4,>=2.5\n",
      "  Using cached idna-3.3-py3-none-any.whl (61 kB)\n",
      "Requirement already satisfied: certifi>=2017.4.17 in c:\\users\\paulh\\anaconda3\\envs\\bananas\\lib\\site-packages (from requests) (2021.5.30)\n",
      "Collecting charset-normalizer~=2.0.0\n",
      "  Using cached charset_normalizer-2.0.12-py3-none-any.whl (39 kB)\n",
      "Installing collected packages: urllib3, idna, charset-normalizer, requests\n",
      "Successfully installed charset-normalizer-2.0.12 idna-3.3 requests-2.27.1 urllib3-1.26.12\n"
     ]
    }
   ],
   "source": [
    "!pip -q install ./python\n",
    "!pip install requests\n",
    "from unityagents import UnityEnvironment\n",
    "import numpy as np\n",
    "import random\n",
    "import torch\n",
    "import torch.nn as nn\n",
    "import torch.optim as optim\n",
    "import torch.nn.functional as F\n",
    "from torch.distributed import barrier\n",
    "from torch.optim.lr_scheduler import ReduceLROnPlateau\n",
    "from collections import namedtuple, deque\n",
    "#from workspace_utils import active_session"
   ]
  },
  {
   "cell_type": "markdown",
   "metadata": {},
   "source": [
    "## Variables"
   ]
  },
  {
   "cell_type": "code",
   "execution_count": 2,
   "metadata": {},
   "outputs": [],
   "source": [
    "num_episodes = 1000        # Number of episodes\n",
    "buffer_size = int(10e6)    # Size of \"memory\" for previous steps\n",
    "batch_size = 32            # Size of random steps to pass to network\n",
    "gamma = 0.99               # Discount factor\n",
    "tau = 10e-4                # Scale factor to update target policy network\n",
    "lr =  0.0005               # Learning rate for current policy network\n",
    "update = 4                 # Number of runs before learning\n",
    "epsilon_start = 1.0        # Starting value for epsilon\n",
    "epsilon_end = 0.05         # Ending value for epsilon\n",
    "epsilon_decay = 0.992      # Epsilon decay rate\n",
    "\n",
    "device = torch.device(\"cuda:0\" if torch.cuda.is_available() else \"cpu\")     # Get device (CPU vs GPU)"
   ]
  },
  {
   "cell_type": "markdown",
   "metadata": {},
   "source": [
    "## Create environment and get the default brain"
   ]
  },
  {
   "cell_type": "code",
   "execution_count": 3,
   "metadata": {
    "scrolled": true
   },
   "outputs": [
    {
     "name": "stderr",
     "output_type": "stream",
     "text": [
      "INFO:unityagents:\n",
      "'Academy' started successfully!\n",
      "Unity Academy name: Academy\n",
      "        Number of Brains: 1\n",
      "        Number of External Brains : 1\n",
      "        Lesson number : 0\n",
      "        Reset Parameters :\n",
      "\t\t\n",
      "Unity brain name: BananaBrain\n",
      "        Number of Visual Observations (per agent): 0\n",
      "        Vector Observation space type: continuous\n",
      "        Vector Observation space size (per agent): 37\n",
      "        Number of stacked Vector Observation: 1\n",
      "        Vector Action space type: discrete\n",
      "        Vector Action space size (per agent): 4\n",
      "        Vector Action descriptions: , , , \n"
     ]
    }
   ],
   "source": [
    "# Create environment\n",
    "\n",
    "env = UnityEnvironment(file_name=\"Banana_Windows_x86_64\\\\Banana.exe\")\n",
    "\n",
    "# Get brain names\n",
    "\n",
    "brain_name = env.brain_names[0]\n",
    "\n",
    "# Get default brain\n",
    "\n",
    "brain = env.brains[brain_name]\n",
    "\n",
    "# Get size of action space\n",
    "\n",
    "action_size = brain.vector_action_space_size\n",
    "\n",
    "# Get information on the environment\n",
    "\n",
    "env_info = env.reset(train_mode=True)[brain_name]\n",
    "\n",
    "# Get first state\n",
    "\n",
    "state = env_info.vector_observations[0]\n",
    "\n",
    "# Get size of state space\n",
    "\n",
    "state_size = len(state)"
   ]
  },
  {
   "cell_type": "markdown",
   "metadata": {},
   "source": [
    "## Policy Network"
   ]
  },
  {
   "cell_type": "code",
   "execution_count": 4,
   "metadata": {},
   "outputs": [],
   "source": [
    "class Q_FCN(nn.Module):\n",
    "\n",
    "    def __init__(self, state_size, action_size):\n",
    "        super(Q_FCN, self).__init__()\n",
    "\n",
    "        self.seed = torch.manual_seed(0)\n",
    "        self.fcn1 = nn.Linear(state_size, state_size*16)      # Input 37, Output 592 \n",
    "        self.fcn2 = nn.Linear(state_size*16, state_size*8)   # Input 592, Output 296\n",
    "        self.fcn3 = nn.Linear(state_size*8, action_size)     # Input 296, Output 4\n",
    "        \n",
    "        self.relu = nn.ReLU6()\n",
    "\n",
    "    def forward(self, state):\n",
    "        \n",
    "        x = self.relu(self.fcn1(state))\n",
    "        x = self.relu(self.fcn2(x))\n",
    "        x = self.fcn3(x)\n",
    "        \n",
    "        return x\n"
   ]
  },
  {
   "cell_type": "markdown",
   "metadata": {},
   "source": [
    "## Create Agent"
   ]
  },
  {
   "cell_type": "code",
   "execution_count": 6,
   "metadata": {},
   "outputs": [],
   "source": [
    "# Create an Agent class - instantiates, runs, and tracks runs through the environment\n",
    "class Agent():\n",
    "    def __init__(self, state_size, action_size, update, batch_size, buffer_size):\n",
    "        super(Agent,self).__init__()\n",
    "        \n",
    "        # Make all input variables local\n",
    "        \n",
    "        self.state_size = state_size\n",
    "        self.action_size = action_size\n",
    "        self.update_after = update\n",
    "        self.batch_size = batch_size\n",
    "        \n",
    "        # Create fully connected linear networks for current and target policies\n",
    "        \n",
    "        self.q_current = Q_FCN(state_size, action_size).to(device)\n",
    "        self.q_target = Q_FCN(state_size, action_size).to(device)\n",
    "        \n",
    "        # Optimizer for current policy network\n",
    "        \n",
    "        self.optimizer = optim.Adam(self.q_current.parameters(), lr=lr)\n",
    "        #self.scheduler = ReduceLROnPlateau(self.optimizer, patience = 100, verbose = True)\n",
    "        \n",
    "        # Create container to hold memory of previous state, action, reward, and next state (SARS)\n",
    "        \n",
    "        self.Mem = Memories(action_size, buffer_size, batch_size)\n",
    "        \n",
    "        # Counter to determine when to update\n",
    "        \n",
    "        self.t_step = 0\n",
    "        \n",
    "    def act(self, state, epsilon = 0):\n",
    "        \n",
    "        # Create torch tensor from numpy state array\n",
    "        \n",
    "        state = torch.from_numpy(state).float()\n",
    "        \n",
    "        # Expand state tensor to 2D and move to CPU or GPU\n",
    "        \n",
    "        state = state.unsqueeze(0).to(device)\n",
    "        \n",
    "        # Set current policy network to evaluation mode\n",
    "        \n",
    "        self.q_current.eval()\n",
    "        \n",
    "        # Turn off gradients\n",
    "        \n",
    "        with torch.no_grad():\n",
    "            \n",
    "            #Get action values by running the state tensor through the current policy network\n",
    "            \n",
    "            action_values = self.q_current(state)\n",
    "            \n",
    "        # Set current policy network back to training mode\n",
    "        \n",
    "        self.q_current.train()\n",
    "        \n",
    "        # Get action\n",
    "        \n",
    "        # Compare a randomly generated number with epsilon\n",
    "        if random.random() > epsilon:\n",
    "            \n",
    "            # If the random number is higher than epsilon, choose the maximum value in action_values\n",
    "            \n",
    "            action = np.argmax(action_values.cpu().data.numpy())\n",
    "            \n",
    "        else:\n",
    "        \n",
    "            # If the random number is lower than epsilon, choose a random action within the action space\n",
    "            \n",
    "            action = random.choice(np.arange(self.action_size))\n",
    "        \n",
    "        # Return the action\n",
    "        return action\n",
    "    \n",
    "    \n",
    "    def step(self, state, action, reward, next_state, done, gamma, tau):\n",
    "        \n",
    "        # Save current SARS to memory\n",
    "        \n",
    "        self.Mem.add(state, action, reward, next_state, done)\n",
    "        \n",
    "        # Increment the update tracker\n",
    "        \n",
    "        self.t_step += 1\n",
    "        \n",
    "        # Check if learning for current and target policy is necessary\n",
    "        \n",
    "        if self.t_step % self.update_after == 0:\n",
    "            \n",
    "            #If there are enough saved SARS to run a learning step\n",
    "            \n",
    "            if self.Mem.__len__() > self.batch_size:\n",
    "                \n",
    "                #Sample the saved memories to create a batch of experiences\n",
    "                \n",
    "                experiences = self.Mem.sample()\n",
    "                \n",
    "                #Update current and target policy networks using past experiences\n",
    "                \n",
    "                self.learn(experiences, gamma, tau)\n",
    "\n",
    "                \n",
    "    def learn(self, experiences, gamma, tau):\n",
    "        \n",
    "        # Unpack the experiences array\n",
    "        \n",
    "        states, actions, rewards, next_states, dones = experiences\n",
    "        \n",
    "        # Move all variables to either CPU or GPU\n",
    "        \n",
    "        next_states.to(device)\n",
    "        states.to(device)\n",
    "        rewards.to(device)\n",
    "        actions.to(device)\n",
    "        dones.to(device)\n",
    "        \n",
    "        # DOUBLE DQN\n",
    "        \n",
    "        # Turn off training of target network\n",
    "        \n",
    "        self.q_target.eval()\n",
    "        #self.q_current.eval()\n",
    "        \n",
    "        # Get prediction of optimum action based on next states\n",
    "        \n",
    "        max_act_local = self.q_current(next_states).detach().max(1)[1].unsqueeze(1).long()\n",
    "        \n",
    "        # Evaluate the output of current policy network using target policy network\n",
    "        \n",
    "        next_q = self.q_target(next_states).gather(1,max_act_local).detach()\n",
    "        \n",
    "        # Calculate gamma-weighted targets\n",
    "        \n",
    "        nxt = (rewards + (gamma * next_q * (1-dones)))#.cpu().detach()\n",
    "        \n",
    "        # Turn on training for current and target policy networks\n",
    "        \n",
    "        self.q_target.train()\n",
    "        #self.q_current.train()\n",
    "        \n",
    "        # Get prediction of actions for current batch of states\n",
    "        \n",
    "        curr_q = self.q_current(states).gather(1,actions)\n",
    "        \n",
    "        # Calculate loss using current prediction of actions and double-DQN prediction\n",
    "        \n",
    "        loss = F.mse_loss(curr_q, nxt)\n",
    "        \n",
    "        # Zero optimizer gradients\n",
    "        \n",
    "        self.optimizer.zero_grad()\n",
    "        \n",
    "        # Propagate loss backwards through current policy network\n",
    "        \n",
    "        loss.backward()\n",
    "        \n",
    "        # Step ADAM optimizer to update network parameters\n",
    "        \n",
    "        self.optimizer.step()\n",
    "        \n",
    "        # Step scheduler to update learning rate if necessary\n",
    "        \n",
    "        #self.scheduler.step(loss)\n",
    "        \n",
    "        # Update target policy network parameters using current policy network parameters and weight tau\n",
    "        \n",
    "        # For every parameter in the target and current policy networks,\n",
    "        \n",
    "        for target_param, current_param in zip(self.q_target.parameters(), self.q_current.parameters()):\n",
    "            \n",
    "            # Update the target policy network parameters based on a \n",
    "            # weighted combination of both network parameter values\n",
    "            \n",
    "            target_param.data.copy_(tau*current_param.data + (1.0-tau)*target_param.data)\n",
    "        "
   ]
  },
  {
   "cell_type": "markdown",
   "metadata": {},
   "source": [
    "## Class for creating, adding, and sampling memories"
   ]
  },
  {
   "cell_type": "code",
   "execution_count": 7,
   "metadata": {},
   "outputs": [],
   "source": [
    "class Memories:\n",
    "    \n",
    "    def __init__(self, action_size, buffer_size, batch_size):\n",
    "        super(Memories, self).__init__()\n",
    "        \n",
    "        # Set inputs as local variables\n",
    "        \n",
    "        self.action_size = action_size\n",
    "        self.buffer_size = buffer_size\n",
    "        self.batch_size = batch_size\n",
    "        \n",
    "        # Create memory to hold experiences\n",
    "        \n",
    "        self.memory = deque(maxlen=buffer_size)\n",
    "        \n",
    "        # Create namedtuple format for experiences (SARS)\n",
    "        \n",
    "        self.experience = namedtuple(\"Experience\", field_names=[\"state\", \"action\", \"reward\", \"next_state\", \"done\"])\n",
    "        \n",
    "        # Set a static seed for consistency between runs\n",
    "        \n",
    "        self.seed = random.seed(0)\n",
    "        \n",
    "    def add(self, state, action, reward, next_state, done):\n",
    "        \n",
    "        # Create namedtuple for current data\n",
    "        current = self.experience(state, action, reward, next_state, done)\n",
    "        \n",
    "        # Add namedtuple to deque\n",
    "        self.memory.append(current)\n",
    "        \n",
    "    def sample(self):\n",
    "        \n",
    "        # Extract a batch of experiences from memory\n",
    "        experiences = random.sample(self.memory, k = self.batch_size)\n",
    "    \n",
    "        # Split experiences into states, actions, rewards, next_states, and dones\n",
    "        \n",
    "        states = torch.from_numpy(np.vstack([e.state for e in experiences if e is not None])).float().to(device)\n",
    "        actions = torch.from_numpy(np.vstack([e.action for e in experiences if e is not None])).long().to(device)\n",
    "        rewards = torch.from_numpy(np.vstack([e.reward for e in experiences if e is not None])).float().to(device)\n",
    "        next_states = torch.from_numpy(np.vstack([e.next_state for e in experiences if e is not None])).float().to(device)\n",
    "        dones = torch.from_numpy(np.vstack([e.done for e in experiences if e is not None]).astype(np.uint8)).float().to(device)\n",
    "        \n",
    "        return (states, actions, rewards, next_states, dones)\n",
    "    \n",
    "    def __len__(self):\n",
    "        \n",
    "        # Get current memory size\n",
    "        \n",
    "        mem_size = len(self.memory)\n",
    "        \n",
    "        return mem_size"
   ]
  },
  {
   "cell_type": "markdown",
   "metadata": {},
   "source": [
    "## Run Agent through Environment and Train to Optimize Policy"
   ]
  },
  {
   "cell_type": "code",
   "execution_count": 8,
   "metadata": {
    "scrolled": true
   },
   "outputs": [
    {
     "name": "stdout",
     "output_type": "stream",
     "text": [
      "Epoch: 562  Average Score: 12.97464646464645585\n",
      "Good monkey! Bananas collected in 563 epochs!\n"
     ]
    }
   ],
   "source": [
    "agent = Agent(state_size, action_size, update, batch_size, buffer_size)\n",
    "\n",
    "scores = []                                                               # List to track scores\n",
    "avg_scores = []                                                           # List to store average scores\n",
    "prev_scores = deque(maxlen = 100)                                         # Deque to hold previous scores\n",
    "epsilon = epsilon_start                                                   # Set epsilon\n",
    "\n",
    "\n",
    "#with active_session():\n",
    "\n",
    "for curr_ep in range(1, num_episodes + 1):\n",
    "    env_info = env.reset(train_mode=True)[brain_name]                     # Reset environment  \n",
    "    state = env_info.vector_observations[0]                               # Get current state\n",
    "    score = 0                                                             # Initialize score\n",
    "\n",
    "    while True:                   \n",
    "        action = agent.act(state, epsilon)                                # select an action\n",
    "        env_info = env.step(int(action))[brain_name]                           # send the action to the environment\n",
    "        next_state = env_info.vector_observations[0]                      # get the next state\n",
    "        reward = env_info.rewards[0]                                      # get the reward\n",
    "        done = env_info.local_done[0]                                     # see if episode has finished\n",
    "        agent.step(state, action, reward, next_state, done, gamma, tau)   # Pass the SARS to the agent\n",
    "        state = next_state                                                # roll over the state to next time step\n",
    "        score += reward                                                   # update the score\n",
    "        if done:                                                          # exit loop if episode finished\n",
    "            break\n",
    "\n",
    "    prev_scores.append(score)                                             # save most recent score in deque for rolling average\n",
    "    scores.append(score)                                                  # save most recent score\n",
    "    epsilon = max(epsilon_end, epsilon_decay*epsilon)                     # decrease epsilon\n",
    "    avg_score = np.mean(prev_scores)                                      # get rolling average score\n",
    "    avg_scores.append(avg_score)\n",
    "\n",
    "    if avg_score < 13:\n",
    "        print(\"Epoch: {}  Average Score: {}\".format(curr_ep, avg_score), end='\\r')\n",
    "    else:\n",
    "        print(\"\\nGood monkey! Bananas collected in {} epochs!\".format(curr_ep))\n",
    "        torch.save(agent.q_current.state_dict(), 'bananas_solved.pth')\n",
    "        break"
   ]
  },
  {
   "cell_type": "code",
   "execution_count": 22,
   "metadata": {},
   "outputs": [
    {
     "data": {
      "image/png": "[encoded data removed]",
      "text/plain": [
       "<Figure size 720x360 with 1 Axes>"
      ]
     },
     "metadata": {},
     "output_type": "display_data"
    }
   ],
   "source": [
    "import matplotlib.pyplot as plt\n",
    "%matplotlib inline\n",
    "plt.figure(figsize=(10,5), facecolor='white')\n",
    "plt.grid(True)\n",
    "plt.plot(avg_scores, linewidth=2, color='red')\n",
    "plt.xlabel(\"Number of Episodes\", loc='center', fontsize=16, fontfamily='Arial')\n",
    "plt.ylabel(\"Average Score over 100 Episodes\", loc='center', fontsize=16, fontfamily='Arial')\n",
    "plt.show()"
   ]
  },
  {
   "cell_type": "code",
   "execution_count": 20,
   "metadata": {},
   "outputs": [
    {
     "data": {
      "image/png": "[encoded data removed]",
      "text/plain": [
       "<Figure size 720x360 with 1 Axes>"
      ]
     },
     "metadata": {},
     "output_type": "display_data"
    }
   ],
   "source": [
    "plt.figure(figsize=(10,5), facecolor='white')\n",
    "plt.grid(True)\n",
    "plt.plot(scores, linewidth=2, color='blue')\n",
    "plt.plot(avg_scores, linewidth=2, color='red')\n",
    "plt.xlabel(\"Number of Episodes\", loc='center', fontsize=16, fontfamily='Arial')\n",
    "plt.ylabel(\"Average Score over 100 Episodes\", loc='center', fontsize=16, fontfamily='Arial')\n",
    "plt.show()"
   ]
  }
 ],
 "metadata": {
  "kernelspec": {
   "display_name": "drlnd",
   "language": "python",
   "name": "drlnd"
  },
  "language_info": {
   "codemirror_mode": {
    "name": "ipython",
    "version": 3
   },
   "file_extension": ".py",
   "mimetype": "text/x-python",
   "name": "python",
   "nbconvert_exporter": "python",
   "pygments_lexer": "ipython3",
   "version": "3.6.15"
  }
 },
 "nbformat": 4,
 "nbformat_minor": 4
}
